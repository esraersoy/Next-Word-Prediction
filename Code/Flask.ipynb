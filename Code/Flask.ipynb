{
 "cells": [
  {
   "cell_type": "code",
   "execution_count": 35,
   "id": "9c2645cf",
   "metadata": {},
   "outputs": [
    {
     "name": "stdout",
     "output_type": "stream",
     "text": [
      " * Serving Flask app '__main__' (lazy loading)\n",
      " * Environment: production\n",
      "   WARNING: This is a development server. Do not use it in a production deployment.\n",
      "   Use a production WSGI server instead.\n",
      " * Debug mode: off\n"
     ]
    },
    {
     "name": "stderr",
     "output_type": "stream",
     "text": [
      " * Running on http://127.0.0.1:5000/ (Press CTRL+C to quit)\n",
      "127.0.0.1 - - [03/Mar/2022 18:33:32] \"GET / HTTP/1.1\" 200 -\n",
      "127.0.0.1 - - [03/Mar/2022 18:33:37] \"GET /main HTTP/1.1\" 200 -\n",
      "127.0.0.1 - - [03/Mar/2022 18:34:00] \"POST /main HTTP/1.1\" 200 -\n",
      "127.0.0.1 - - [03/Mar/2022 18:34:50] \"POST /main HTTP/1.1\" 200 -\n",
      "127.0.0.1 - - [03/Mar/2022 18:34:53] \"POST /main HTTP/1.1\" 200 -\n",
      "127.0.0.1 - - [03/Mar/2022 18:35:00] \"POST /main HTTP/1.1\" 200 -\n",
      "127.0.0.1 - - [03/Mar/2022 18:35:07] \"POST /main HTTP/1.1\" 200 -\n"
     ]
    }
   ],
   "source": [
    "from flask import Flask, redirect, url_for, render_template, request\n",
    "from keras.models import load_model\n",
    "import pickle\n",
    "from nltk.tokenize import RegexpTokenizer\n",
    "import numpy as np\n",
    "import heapq\n",
    "\n",
    "model = pickle.load(open('NextWord.pkl', 'rb'))\n",
    "\n",
    "path = 'data.txt'\n",
    "text = open(path, encoding=\"utf8\").read().lower()\n",
    "\n",
    "# Tokenization\n",
    "\n",
    "tokenizer = RegexpTokenizer(r'\\w+')\n",
    "words = tokenizer.tokenize(text)\n",
    "\n",
    "# Getting unique words\n",
    "\n",
    "unique_words = np.unique(words)\n",
    "unique_word_index = dict((c, i) for i, c in enumerate(unique_words))\n",
    "\n",
    "LENGTH_WORD = 5\n",
    "\n",
    "# Testing Next Word\n",
    "def prepare_input(text):\n",
    "    x = np.zeros((1, LENGTH_WORD, len(unique_words)))\n",
    "    for t, word in enumerate(text.split()):\n",
    "#        print(word)\n",
    "        try:\n",
    "            x[0, t, unique_word_index[word]] = 1\n",
    "        except:\n",
    "            pass\n",
    "    return x\n",
    "\n",
    "def sample(preds, top_n):\n",
    "    preds = np.asarray(preds).astype('float64')\n",
    "    preds = np.log(preds)\n",
    "    exp_preds = np.exp(preds)\n",
    "    preds = exp_preds / np.sum(exp_preds)\n",
    "    return heapq.nlargest(top_n, range(len(preds)), preds.take)\n",
    "\n",
    "def predict_completions(text, n):\n",
    "    x = prepare_input(text)\n",
    "    preds = model.predict(x, verbose=0)[0]\n",
    "    next_indices = sample(preds, n)\n",
    "    return [unique_words[idx] for idx in next_indices]\n",
    "\n",
    "\n",
    "app = Flask(__name__)\n",
    "\n",
    "@app.route(\"/\")\n",
    "def home():\n",
    "    return render_template(\"index.html\")\n",
    "\n",
    "@app.route(\"/main\", methods=[\"POST\", \"GET\"])\n",
    "def main():\n",
    "    if request.method == \"POST\":\n",
    "        input_text = request.form[\"text\"]\n",
    "        x = prepare_input(input_text)\n",
    "        preds = model.predict(x, verbose=0)[0]\n",
    "        next_indices = sample(preds, 10)\n",
    "        suggestions = predict_completions(input_text, 10)\n",
    "        string = suggestions[0] + ', ' + suggestions[1] + ', ' + suggestions[2] + ', ' + suggestions[3] + ', ' + suggestions[4] + ', ' + suggestions[5] + ', ' + suggestions[6] + ', ' + suggestions[7] + ', ' + suggestions[8] + ', ' + suggestions[9]\n",
    "        return render_template(\"main.html\", content = \"Suggestions:  \" + string, text = input_text)\n",
    "    else:\n",
    "        return render_template(\"main.html\")\n",
    "\n",
    "if __name__=='__main__':\n",
    "    app.run()\n",
    "    "
   ]
  },
  {
   "cell_type": "code",
   "execution_count": null,
   "id": "1197b1a9",
   "metadata": {},
   "outputs": [],
   "source": []
  },
  {
   "cell_type": "code",
   "execution_count": null,
   "id": "cc52e1bb",
   "metadata": {},
   "outputs": [],
   "source": []
  }
 ],
 "metadata": {
  "kernelspec": {
   "display_name": "Python 3 (ipykernel)",
   "language": "python",
   "name": "python3"
  },
  "language_info": {
   "codemirror_mode": {
    "name": "ipython",
    "version": 3
   },
   "file_extension": ".py",
   "mimetype": "text/x-python",
   "name": "python",
   "nbconvert_exporter": "python",
   "pygments_lexer": "ipython3",
   "version": "3.7.9"
  }
 },
 "nbformat": 4,
 "nbformat_minor": 5
}
