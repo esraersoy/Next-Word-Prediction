{
 "cells": [
  {
   "cell_type": "code",
   "execution_count": 1,
   "id": "49208fa3",
   "metadata": {},
   "outputs": [
    {
     "name": "stderr",
     "output_type": "stream",
     "text": [
      "Using TensorFlow backend.\n"
     ]
    }
   ],
   "source": [
    "import numpy as np\n",
    "import heapq\n",
    "import matplotlib.pyplot as plt\n",
    "from nltk.tokenize import RegexpTokenizer\n",
    "from keras.models import Sequential, load_model\n",
    "from keras.layers.core import Dense, Activation\n",
    "from keras.layers import LSTM\n",
    "import pickle\n",
    "from keras.optimizers import RMSprop"
   ]
  },
  {
   "cell_type": "code",
   "execution_count": 2,
   "id": "593756e3",
   "metadata": {},
   "outputs": [
    {
     "name": "stdout",
     "output_type": "stream",
     "text": [
      "length of the corpus is: : 581888\n"
     ]
    }
   ],
   "source": [
    "path = 'data.txt'\n",
    "text = open(path, encoding=\"utf8\").read().lower()\n",
    "print('length of the corpus is: :', len(text))"
   ]
  },
  {
   "cell_type": "code",
   "execution_count": 3,
   "id": "fff3a7b2",
   "metadata": {},
   "outputs": [],
   "source": [
    "# Tokenization\n",
    "\n",
    "tokenizer = RegexpTokenizer(r'\\w+')\n",
    "words = tokenizer.tokenize(text)"
   ]
  },
  {
   "cell_type": "code",
   "execution_count": 4,
   "id": "b0709ff0",
   "metadata": {},
   "outputs": [],
   "source": [
    "# Getting unique words\n",
    "\n",
    "unique_words = np.unique(words)\n",
    "unique_word_index = dict((c, i) for i, c in enumerate(unique_words))"
   ]
  },
  {
   "cell_type": "code",
   "execution_count": 5,
   "id": "f92f8090",
   "metadata": {},
   "outputs": [
    {
     "name": "stdout",
     "output_type": "stream",
     "text": [
      "['project', 'gutenberg', 's', 'the', 'adventures']\n",
      "of\n",
      "['gutenberg', 's', 'the', 'adventures', 'of']\n",
      "sherlock\n"
     ]
    }
   ],
   "source": [
    "# Feature Engineering\n",
    "\n",
    "LENGTH_WORD = 5\n",
    "next_words = []\n",
    "prev_words = []\n",
    "for j in range(len(words) - LENGTH_WORD):\n",
    "    prev_words.append(words[j:j + LENGTH_WORD])\n",
    "    next_words.append(words[j + LENGTH_WORD])\n",
    "print(prev_words[0])\n",
    "print(next_words[0])\n",
    "\n",
    "print(prev_words[1])\n",
    "print(next_words[1])"
   ]
  },
  {
   "cell_type": "code",
   "execution_count": 6,
   "id": "09528034",
   "metadata": {},
   "outputs": [
    {
     "data": {
      "text/plain": [
       "array([[[False, False],\n",
       "        [False, False]],\n",
       "\n",
       "       [[False, False],\n",
       "        [False, False]]])"
      ]
     },
     "execution_count": 6,
     "metadata": {},
     "output_type": "execute_result"
    }
   ],
   "source": [
    "Z = np.zeros((2,2,2),  dtype=bool)\n",
    "\n",
    "Z"
   ]
  },
  {
   "cell_type": "code",
   "execution_count": 7,
   "id": "9f0ffbd6",
   "metadata": {},
   "outputs": [],
   "source": [
    "# Storing Features and Labels\n",
    "\n",
    "X = np.zeros((len(prev_words), LENGTH_WORD, len(unique_words)), dtype=bool)\n",
    "Y = np.zeros((len(next_words), len(unique_words)), dtype=bool)\n",
    "for i, each_words in enumerate(prev_words):\n",
    "    for j, each_word in enumerate(each_words):\n",
    "        X[i, j, unique_word_index[each_word]] = 1\n",
    "    Y[i, unique_word_index[next_words[i]]] = 1"
   ]
  },
  {
   "cell_type": "code",
   "execution_count": 19,
   "id": "6aef4663",
   "metadata": {},
   "outputs": [],
   "source": [
    "# Building our model\n",
    "\n",
    "model = Sequential()\n",
    "model.add(LSTM(128, input_shape=(LENGTH_WORD, len(unique_words))))\n",
    "model.add(Dense(len(unique_words)))\n",
    "model.add(Activation('softmax'))"
   ]
  },
  {
   "cell_type": "code",
   "execution_count": 20,
   "id": "2ecb405f",
   "metadata": {},
   "outputs": [
    {
     "name": "stdout",
     "output_type": "stream",
     "text": [
      "Train on 103759 samples, validate on 5462 samples\n",
      "Epoch 1/20\n",
      "103759/103759 [==============================] - 96s 929us/step - loss: 6.0234 - accuracy: 0.1073 - val_loss: 7.1394 - val_accuracy: 0.1007\n",
      "Epoch 2/20\n",
      "103759/103759 [==============================] - 97s 934us/step - loss: 5.7726 - accuracy: 0.1478 - val_loss: 7.7594 - val_accuracy: 0.1064\n",
      "Epoch 3/20\n",
      "103759/103759 [==============================] - 96s 922us/step - loss: 5.7474 - accuracy: 0.1764 - val_loss: 7.8174 - val_accuracy: 0.1047\n",
      "Epoch 4/20\n",
      "103759/103759 [==============================] - 100s 959us/step - loss: 5.4372 - accuracy: 0.2095 - val_loss: 8.3447 - val_accuracy: 0.0992\n",
      "Epoch 5/20\n",
      "103759/103759 [==============================] - 98s 941us/step - loss: 5.1308 - accuracy: 0.2505 - val_loss: 8.3251 - val_accuracy: 0.0881\n",
      "Epoch 6/20\n",
      "103759/103759 [==============================] - 96s 926us/step - loss: 4.8538 - accuracy: 0.2876 - val_loss: 8.7019 - val_accuracy: 0.0921\n",
      "Epoch 7/20\n",
      "103759/103759 [==============================] - 96s 922us/step - loss: 4.6127 - accuracy: 0.3280 - val_loss: 8.7814 - val_accuracy: 0.0930\n",
      "Epoch 8/20\n",
      "103759/103759 [==============================] - 95s 915us/step - loss: 4.4141 - accuracy: 0.3644 - val_loss: 8.8324 - val_accuracy: 0.0870\n",
      "Epoch 9/20\n",
      "103759/103759 [==============================] - 97s 932us/step - loss: 4.2414 - accuracy: 0.3979 - val_loss: 8.9657 - val_accuracy: 0.0804\n",
      "Epoch 10/20\n",
      "103759/103759 [==============================] - 94s 902us/step - loss: 4.1019 - accuracy: 0.4309 - val_loss: 9.0704 - val_accuracy: 0.0829\n",
      "Epoch 11/20\n",
      "103759/103759 [==============================] - 99s 950us/step - loss: 3.9905 - accuracy: 0.4581 - val_loss: 9.2186 - val_accuracy: 0.0763\n",
      "Epoch 12/20\n",
      "103759/103759 [==============================] - 99s 957us/step - loss: 3.8695 - accuracy: 0.4840 - val_loss: 9.4188 - val_accuracy: 0.0718\n",
      "Epoch 13/20\n",
      "103759/103759 [==============================] - 100s 960us/step - loss: 3.7459 - accuracy: 0.5074 - val_loss: 9.5030 - val_accuracy: 0.0756\n",
      "Epoch 14/20\n",
      "103759/103759 [==============================] - 100s 964us/step - loss: 3.6462 - accuracy: 0.5273 - val_loss: 9.7859 - val_accuracy: 0.0727\n",
      "Epoch 15/20\n",
      "103759/103759 [==============================] - 96s 922us/step - loss: 3.5623 - accuracy: 0.5430 - val_loss: 9.8835 - val_accuracy: 0.0687\n",
      "Epoch 16/20\n",
      "103759/103759 [==============================] - 96s 926us/step - loss: 3.5017 - accuracy: 0.5560 - val_loss: 9.9806 - val_accuracy: 0.0639\n",
      "Epoch 17/20\n",
      "103759/103759 [==============================] - 97s 939us/step - loss: 3.4676 - accuracy: 0.5653 - val_loss: 9.9825 - val_accuracy: 0.0644\n",
      "Epoch 18/20\n",
      "103759/103759 [==============================] - 97s 935us/step - loss: 3.4195 - accuracy: 0.5774 - val_loss: 10.2736 - val_accuracy: 0.0652\n",
      "Epoch 19/20\n",
      "103759/103759 [==============================] - 98s 940us/step - loss: 3.3773 - accuracy: 0.5870 - val_loss: 10.1363 - val_accuracy: 0.0674\n",
      "Epoch 20/20\n",
      "103759/103759 [==============================] - 95s 918us/step - loss: 3.3453 - accuracy: 0.5942 - val_loss: 10.2673 - val_accuracy: 0.0681\n"
     ]
    }
   ],
   "source": [
    "# Model Training \n",
    "\n",
    "optimizer = RMSprop(lr=0.01)\n",
    "model.compile(loss='categorical_crossentropy', optimizer=optimizer, metrics=['accuracy'])\n",
    "history = model.fit(X, Y, validation_split=0.05, batch_size=128, epochs=20, shuffle=True).history"
   ]
  },
  {
   "cell_type": "code",
   "execution_count": 21,
   "id": "3004d181",
   "metadata": {},
   "outputs": [],
   "source": [
    "# Saving Model\n",
    "\n",
    "model.save('next_word_model_v3.h5')\n",
    "pickle.dump(history, open(\"history.p\", \"wb\"))\n",
    "model = load_model('next_word_model_v3.h5')\n",
    "history = pickle.load(open(\"history.p\", \"rb\"))"
   ]
  },
  {
   "cell_type": "code",
   "execution_count": 8,
   "id": "b03d5598",
   "metadata": {},
   "outputs": [],
   "source": [
    "model = load_model('next_word_model_v3.h5')"
   ]
  },
  {
   "cell_type": "code",
   "execution_count": 22,
   "id": "7758d063",
   "metadata": {},
   "outputs": [
    {
     "data": {
      "text/plain": [
       "<matplotlib.legend.Legend at 0x170dd52bc48>"
      ]
     },
     "execution_count": 22,
     "metadata": {},
     "output_type": "execute_result"
    },
    {
     "data": {
      "image/png": "[encoded data removed]",
      "text/plain": [
       "<Figure size 432x288 with 1 Axes>"
      ]
     },
     "metadata": {
      "needs_background": "light"
     },
     "output_type": "display_data"
    }
   ],
   "source": [
    "# Evaluating the model\n",
    "\n",
    "plt.plot(history['accuracy'])\n",
    "plt.plot(history['val_accuracy'])\n",
    "plt.title('model accuracy')\n",
    "plt.ylabel('accuracy')\n",
    "plt.xlabel('epoch')\n",
    "plt.legend(['train', 'test'], loc='upper left')"
   ]
  },
  {
   "cell_type": "code",
   "execution_count": 23,
   "id": "6ae026ab",
   "metadata": {},
   "outputs": [
    {
     "data": {
      "text/plain": [
       "<matplotlib.legend.Legend at 0x170dd65a408>"
      ]
     },
     "execution_count": 23,
     "metadata": {},
     "output_type": "execute_result"
    },
    {
     "data": {
      "image/png": "[encoded data removed]",
      "text/plain": [
       "<Figure size 432x288 with 1 Axes>"
      ]
     },
     "metadata": {
      "needs_background": "light"
     },
     "output_type": "display_data"
    }
   ],
   "source": [
    "plt.plot(history['loss'])\n",
    "plt.plot(history['val_loss'])\n",
    "plt.title('model loss')\n",
    "plt.ylabel('loss')\n",
    "plt.xlabel('epoch')\n",
    "plt.legend(['train', 'test'], loc='upper left')"
   ]
  },
  {
   "cell_type": "code",
   "execution_count": 9,
   "id": "d02202e6",
   "metadata": {},
   "outputs": [],
   "source": [
    "# Testing Next Word\n",
    "\n",
    "def prepare_input(text):\n",
    "    x = np.zeros((1, LENGTH_WORD, len(unique_words)))\n",
    "    for t, word in enumerate(text.split()):\n",
    "#        print(word)\n",
    "        try:\n",
    "            x[0, t, unique_word_index[word]] = 1\n",
    "        except:\n",
    "            pass\n",
    "    return x"
   ]
  },
  {
   "cell_type": "code",
   "execution_count": 10,
   "id": "e4e338df",
   "metadata": {},
   "outputs": [],
   "source": [
    "def sample(preds, top_n):\n",
    "    preds = np.asarray(preds).astype('float64')\n",
    "    preds = np.log(preds)\n",
    "    exp_preds = np.exp(preds)\n",
    "    preds = exp_preds / np.sum(exp_preds)\n",
    "    return heapq.nlargest(top_n, range(len(preds)), preds.take)"
   ]
  },
  {
   "cell_type": "code",
   "execution_count": 11,
   "id": "4bf9e4a6",
   "metadata": {},
   "outputs": [],
   "source": [
    "def predict_completions(text, n):\n",
    "    x = prepare_input(text)\n",
    "    preds = model.predict(x, verbose=0)[0]\n",
    "    next_indices = sample(preds, n)\n",
    "    return [unique_words[idx] for idx in next_indices]\n"
   ]
  },
  {
   "cell_type": "code",
   "execution_count": 12,
   "id": "ce2e4bbb",
   "metadata": {},
   "outputs": [],
   "source": [
    "quotes = [\n",
    "    \"had you lived a few centuries\",\n",
    "    \"I could not help laughing at the ease with which he explained\"\n",
    "]"
   ]
  },
  {
   "cell_type": "code",
   "execution_count": 13,
   "id": "2b8369b5",
   "metadata": {},
   "outputs": [
    {
     "name": "stdout",
     "output_type": "stream",
     "text": [
      "['and', 'in', 'to', 'of', 'that', 'i', 'the', 'it', 'for', 'a']\n",
      "['and', 'in', 'to', 'of', 'that', 'i', 'the', 'it', 'for', 'a']\n",
      "['that', 'the', 'to', 'of', 'it', 'a', 'in', 'and', 'with', 'for']\n",
      "['that', 'the', 'to', 'of', 'it', 'a', 'in', 'and', 'with', 'for']\n"
     ]
    }
   ],
   "source": [
    "# Predict the next word\n",
    "\n",
    "for q in quotes:\n",
    "    seq = q[:12].lower()\n",
    "#    print(seq)\n",
    "    print(predict_completions(seq, 10))\n",
    "    suggestions=predict_completions(seq, 10)\n",
    "    print(suggestions)"
   ]
  },
  {
   "cell_type": "code",
   "execution_count": 41,
   "id": "b26b499d",
   "metadata": {},
   "outputs": [],
   "source": [
    "import pickle\n",
    "\n",
    "pickle_file = open('NextWord.pkl', 'wb')     \n",
    "pickle.dump(model, pickle_file)\n",
    "pickle_file.close()"
   ]
  }
 ],
 "metadata": {
  "kernelspec": {
   "display_name": "Python 3 (ipykernel)",
   "language": "python",
   "name": "python3"
  },
  "language_info": {
   "codemirror_mode": {
    "name": "ipython",
    "version": 3
   },
   "file_extension": ".py",
   "mimetype": "text/x-python",
   "name": "python",
   "nbconvert_exporter": "python",
   "pygments_lexer": "ipython3",
   "version": "3.7.9"
  }
 },
 "nbformat": 4,
 "nbformat_minor": 5
}
